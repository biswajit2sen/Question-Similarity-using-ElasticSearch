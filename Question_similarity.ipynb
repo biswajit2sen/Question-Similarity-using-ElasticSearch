{
 "cells": [
  {
   "cell_type": "markdown",
   "metadata": {},
   "source": [
    "# Importing libraries"
   ]
  },
  {
   "cell_type": "code",
   "execution_count": null,
   "metadata": {},
   "outputs": [],
   "source": [
    "import tensorflow as tf\n",
    "import tensorflow_hub as hub\n",
    "from elasticsearch import Elasticsearch\n",
    "import numpy as np\n",
    "import csv\n",
    "import re\n",
    "import time"
   ]
  },
  {
   "cell_type": "markdown",
   "metadata": {},
   "source": [
    "# loading encorder model"
   ]
  },
  {
   "cell_type": "code",
   "execution_count": null,
   "metadata": {},
   "outputs": [],
   "source": [
    "def load_encorder_model():\n",
    "    encorder = hub.load('universal_sentence_encorder_large')\n",
    "    print(\"model loaded\")\n",
    "    return encorder"
   ]
  },
  {
   "cell_type": "markdown",
   "metadata": {},
   "source": [
    "# Connecting to ElasticSearch"
   ]
  },
  {
   "cell_type": "code",
   "execution_count": null,
   "metadata": {},
   "outputs": [],
   "source": [
    "def connect_to_elasticsearch():\n",
    "    es = Elasticsearch([{'host':'localhost','port':9200}])\n",
    "    #Check if it is connected\n",
    "    if es.ping():\n",
    "        print(\"Connected to ElasticSearch\")\n",
    "        return es\n",
    "    else:\n",
    "        print(\"**Can't Connect to ElasticSearch**\")"
   ]
  },
  {
   "cell_type": "markdown",
   "metadata": {},
   "source": [
    "# Inserting data into ElasticSearch"
   ]
  },
  {
   "cell_type": "code",
   "execution_count": null,
   "metadata": {},
   "outputs": [],
   "source": [
    "#getting ElasticSearch Connection\n",
    "es = connect_to_elasticsearch()"
   ]
  },
  {
   "cell_type": "code",
   "execution_count": null,
   "metadata": {},
   "outputs": [],
   "source": [
    "#Load encorder model\n",
    "encorder = load_encorder_model()"
   ]
  },
  {
   "cell_type": "code",
   "execution_count": null,
   "metadata": {},
   "outputs": [],
   "source": [
    "#Defining ElasticSearch database\n",
    "\n",
    "Es_database = {'mappings':{\n",
    "                            'properties':{'title':{'type':'text'},\n",
    "                                          'body':{'type':'text'},\n",
    "                                          'title_vector':{'type':'dense_vector', \"dims\":512},\n",
    "                                          'body_vector':{'type':'dense_vector', \"dims\":512}\n",
    "                                         }\n",
    "                           }           \n",
    "              }"
   ]
  },
  {
   "cell_type": "code",
   "execution_count": null,
   "metadata": {},
   "outputs": [],
   "source": [
    "#es.indices.delete(index='question-index')"
   ]
  },
  {
   "cell_type": "code",
   "execution_count": null,
   "metadata": {},
   "outputs": [],
   "source": [
    "#creating elasticseach index/db in RDBMS\n",
    "qs = es.indices.create(index='question-index',body=Es_database)"
   ]
  },
  {
   "cell_type": "markdown",
   "metadata": {},
   "source": [
    "#Deleting any existing index\n",
    "es.indices.delete(index='question-index')"
   ]
  },
  {
   "cell_type": "code",
   "execution_count": null,
   "metadata": {
    "scrolled": true
   },
   "outputs": [],
   "source": [
    "#inserting in elasticseach\n",
    "\n",
    "start = time.time()\n",
    "cnt=0\n",
    "with open('Quora_question_answers/Questions.csv',encoding='latin') as csvfile:\n",
    "    #print(\"opened\")\n",
    "    reader = csv.reader(csvfile, delimiter=',')\n",
    "    next(reader,None) #skip the header\n",
    "    for row in reader:\n",
    "        doc_id = row[0]\n",
    "        title = ' '.join(re.sub(\"<.*?>\", \"\", row[5]).split()) #removing HTML tage and whitespaces((space, tab, newline)\n",
    "        body = ' '.join(re.sub(\"<.*?>\", \"\",row[6]).split()) #removing HTML tage and whitespaces((space, tab, newline \n",
    "        title_vector = np.array(encorder([title])).tolist()[0]\n",
    "        body_vector = np.array(encorder([body])).tolist()[0]\n",
    "        \n",
    "        bdy = {\"title\":title,\n",
    "               \"body\":body,\n",
    "               \"title_vector\":title_vector,\n",
    "               \"body_vector\":body_vector\n",
    "              }\n",
    "        es.index(index='question-index',id=doc_id,body=bdy)\n",
    "        \n",
    "        cnt+=1\n",
    "        if cnt%1000 ==0:\n",
    "            print(\"Inserted '\",cnt,\"' Records in ElasticSearch\")\n",
    "            \n",
    "end = time.time()\n",
    "total_time = (end - start)/60\n",
    "print(f\"Runtime of the program is {total_time}\")"
   ]
  },
  {
   "cell_type": "markdown",
   "metadata": {},
   "source": [
    "To check inserted values\n",
    "es.search(index = 'question-index',body={'query':{'match_all':{}}})"
   ]
  },
  {
   "cell_type": "markdown",
   "metadata": {},
   "source": [
    "# Normal Search"
   ]
  },
  {
   "cell_type": "code",
   "execution_count": null,
   "metadata": {},
   "outputs": [],
   "source": [
    "def normal_search(query):\n",
    "    normal_search_query = {'query':{'match':{'title':query}}}\n",
    "    results = es.search(index = 'question-index', body= normal_search_query)\n",
    "    for q in results['hits']['hits']:\n",
    "        print('score:', q['_score'])\n",
    "        print(q['_source']['title'])\n",
    "        print('********************')"
   ]
  },
  {
   "cell_type": "code",
   "execution_count": null,
   "metadata": {},
   "outputs": [],
   "source": [
    "que ='how to install python'\n",
    "normal_search(que)"
   ]
  },
  {
   "cell_type": "markdown",
   "metadata": {},
   "source": [
    "# Sementic Search "
   ]
  },
  {
   "cell_type": "code",
   "execution_count": null,
   "metadata": {},
   "outputs": [],
   "source": [
    "def sementic_search(query_question):\n",
    "    query_vector = np.array(encorder([query_question])).tolist()[0]\n",
    "    sementic_search_query = { \"query\": {\n",
    "                                        \"script_score\": {\n",
    "                                                        \"query\": { \"match_all\":{} },\n",
    "                                                        \"script\":{\n",
    "                                                                     \"source\":\"cosineSimilarity(params.query_vector,'title_vector')+1.0\",\n",
    "                                                                     \"params\":{\"query_vector\": query_vector}\n",
    "                                                                 }\n",
    "                                                        }\n",
    "                                        }\n",
    "                            }\n",
    "    sementic_search_result = es.search(index= 'question-index', body = sementic_search_query)\n",
    "    for q in sementic_search_result['hits']['hits']:\n",
    "        print('score:', q['_score'] - 1)\n",
    "        print(q['_source']['title'])\n",
    "        print('******************')"
   ]
  },
  {
   "cell_type": "code",
   "execution_count": null,
   "metadata": {},
   "outputs": [],
   "source": [
    "que = 'how to install python'\n",
    "sementic_search(que)"
   ]
  },
  {
   "cell_type": "markdown",
   "metadata": {},
   "source": [
    "# Sementic search on Title & Answer"
   ]
  },
  {
   "cell_type": "code",
   "execution_count": null,
   "metadata": {},
   "outputs": [],
   "source": [
    "def sementic_search_test(query_question):\n",
    "    query_vector = np.array(encorder([query_question])).tolist()[0]\n",
    "    sementic_search_query = { \"query\": {\n",
    "                                        \"script_score\": {\n",
    "                                                        \"query\": { \"match_all\":{} },\n",
    "                                                        \"script\":{\n",
    "                                                                     \"source\":\"cosineSimilarity(params.query_vector,'title_vector')+cosineSimilarity(params.query_vector,'body_vector')+2.0\",\n",
    "                                                                     \"params\":{\"query_vector\": query_vector}\n",
    "                                                                 }\n",
    "                                                        }\n",
    "                                        }\n",
    "                            }\n",
    "    sementic_search_result = es.search(index= 'question-index', body = sementic_search_query)\n",
    "#    return sementic_search_result\n",
    "    for q in sementic_search_result['hits']['hits']:\n",
    "        print('score:', q['_score'] -2)\n",
    "        print('Title:',q['_source']['title'])\n",
    "        print('Body:',q['_source']['body'])\n",
    "        print('******************')"
   ]
  },
  {
   "cell_type": "code",
   "execution_count": null,
   "metadata": {
    "scrolled": true
   },
   "outputs": [],
   "source": [
    "que = 'ways to install java'\n",
    "sementic_search_test('how to get rich')"
   ]
  }
 ],
 "metadata": {
  "kernelspec": {
   "display_name": "Python 3",
   "language": "python",
   "name": "python3"
  },
  "language_info": {
   "codemirror_mode": {
    "name": "ipython",
    "version": 3
   },
   "file_extension": ".py",
   "mimetype": "text/x-python",
   "name": "python",
   "nbconvert_exporter": "python",
   "pygments_lexer": "ipython3",
   "version": "3.8.3"
  }
 },
 "nbformat": 4,
 "nbformat_minor": 4
}
